{
 "cells": [
  {
   "cell_type": "code",
   "execution_count": null,
   "id": "25eb4aea-460d-4d70-a468-b20880ab5539",
   "metadata": {
    "tags": []
   },
   "outputs": [],
   "source": [
    "%config IPCompleter.greedy=True\n",
    "import pandas as pd\n",
    "import tensorflow as tf\n",
    "import seaborn as sns\n",
    "import numpy as np\n",
    "\n",
    "import matplotlib as matplot\n",
    "import matplotlib.pyplot as plt\n",
    "%matplotlib inline\n",
    "\n",
    "from IPython.core.interactiveshell import InteractiveShell\n",
    "InteractiveShell.ast_node_interactivity = \"all\"\n",
    "\n",
    "import warnings\n",
    "warnings.filterwarnings(\"ignore\")\n",
    "\n",
    "from keras import Sequential\n",
    "from keras.models import Model, load_model\n",
    "from keras.layers import *\n",
    "from keras.callbacks import ModelCheckpoint\n",
    "from keras import regularizers\n",
    "\n",
    "from sklearn.metrics import *\n",
    "from sklearn.tree import DecisionTreeClassifier\n",
    "from sklearn.ensemble import RandomForestClassifier, ExtraTreesClassifier, VotingClassifier\n",
    "from sklearn.model_selection import train_test_split\n",
    "from sklearn.preprocessing import LabelEncoder,normalize\n",
    "from sklearn.preprocessing import StandardScaler\n",
    "from sklearn.metrics import classification_report\n",
    "from sklearn.metrics import accuracy_score, f1_score\n",
    "from sklearn.metrics import confusion_matrix\n",
    "\n",
    "import xgboost, lightgbm\n",
    "from mlxtend.classifier import EnsembleVoteClassifier\n",
    "from imblearn.over_sampling import SMOTE\n",
    "\n"
   ]
  },
  {
   "cell_type": "code",
   "execution_count": null,
   "id": "21f238a5",
   "metadata": {},
   "outputs": [],
   "source": []
  },
  {
   "cell_type": "code",
   "execution_count": null,
   "id": "63384dda",
   "metadata": {},
   "outputs": [],
   "source": []
  },
  {
   "cell_type": "markdown",
   "id": "2f989858-937c-4c01-ba50-565fdff38965",
   "metadata": {},
   "source": [
    "# data preprocessing step"
   ]
  },
  {
   "cell_type": "code",
   "execution_count": null,
   "id": "ce2fc2ee-6798-474f-8188-86c9617f9a72",
   "metadata": {
    "tags": []
   },
   "outputs": [],
   "source": [
    "train = pd.read_csv(\"UNSW_NB15_training-set.csv\")\n",
    "test = pd.read_csv(\"UNSW_NB15_testing-set.csv\")\n",
    "#combined_data = pd.concat([train, test]).drop(['id'],axis=1)"
   ]
  },
  {
   "cell_type": "code",
   "execution_count": null,
   "id": "9d5f24c2-506a-42fd-bd93-58e978b859d1",
   "metadata": {
    "tags": []
   },
   "outputs": [],
   "source": [
    "train_x = train.iloc[:,1:-2]\n",
    "train_y = train.iloc[:,-1]"
   ]
  },
  {
   "cell_type": "code",
   "execution_count": null,
   "id": "98c3b6cd-71b5-4277-81c4-9fad3c0d7adb",
   "metadata": {
    "tags": []
   },
   "outputs": [],
   "source": [
    "le = LabelEncoder()\n",
    "\n",
    "train_x['proto'] = le.fit_transform(train_x['proto'])\n",
    "train_x['service'] = le.fit_transform(train_x['service'])\n",
    "train_x['state'] = le.fit_transform(train_x['state'])"
   ]
  },
  {
   "cell_type": "code",
   "execution_count": null,
   "id": "0d867119-2ebb-47dd-88eb-9dd77cd98493",
   "metadata": {
    "tags": []
   },
   "outputs": [
    {
     "data": {
      "text/html": [
       "<div>\n",
       "<style scoped>\n",
       "    .dataframe tbody tr th:only-of-type {\n",
       "        vertical-align: middle;\n",
       "    }\n",
       "\n",
       "    .dataframe tbody tr th {\n",
       "        vertical-align: top;\n",
       "    }\n",
       "\n",
       "    .dataframe thead th {\n",
       "        text-align: right;\n",
       "    }\n",
       "</style>\n",
       "<table border=\"1\" class=\"dataframe\">\n",
       "  <thead>\n",
       "    <tr style=\"text-align: right;\">\n",
       "      <th></th>\n",
       "      <th>dur</th>\n",
       "      <th>proto</th>\n",
       "      <th>service</th>\n",
       "      <th>state</th>\n",
       "      <th>spkts</th>\n",
       "      <th>dpkts</th>\n",
       "      <th>sbytes</th>\n",
       "      <th>dbytes</th>\n",
       "      <th>rate</th>\n",
       "      <th>sttl</th>\n",
       "      <th>...</th>\n",
       "      <th>ct_dst_ltm</th>\n",
       "      <th>ct_src_dport_ltm</th>\n",
       "      <th>ct_dst_sport_ltm</th>\n",
       "      <th>ct_dst_src_ltm</th>\n",
       "      <th>is_ftp_login</th>\n",
       "      <th>ct_ftp_cmd</th>\n",
       "      <th>ct_flw_http_mthd</th>\n",
       "      <th>ct_src_ltm</th>\n",
       "      <th>ct_srv_dst</th>\n",
       "      <th>is_sm_ips_ports</th>\n",
       "    </tr>\n",
       "  </thead>\n",
       "  <tbody>\n",
       "    <tr>\n",
       "      <th>0</th>\n",
       "      <td>0.000011</td>\n",
       "      <td>117</td>\n",
       "      <td>0</td>\n",
       "      <td>4</td>\n",
       "      <td>2</td>\n",
       "      <td>0</td>\n",
       "      <td>496</td>\n",
       "      <td>0</td>\n",
       "      <td>90909.0902</td>\n",
       "      <td>254</td>\n",
       "      <td>...</td>\n",
       "      <td>1</td>\n",
       "      <td>1</td>\n",
       "      <td>1</td>\n",
       "      <td>2</td>\n",
       "      <td>0</td>\n",
       "      <td>0</td>\n",
       "      <td>0</td>\n",
       "      <td>1</td>\n",
       "      <td>2</td>\n",
       "      <td>0</td>\n",
       "    </tr>\n",
       "    <tr>\n",
       "      <th>1</th>\n",
       "      <td>0.000008</td>\n",
       "      <td>117</td>\n",
       "      <td>0</td>\n",
       "      <td>4</td>\n",
       "      <td>2</td>\n",
       "      <td>0</td>\n",
       "      <td>1762</td>\n",
       "      <td>0</td>\n",
       "      <td>125000.0003</td>\n",
       "      <td>254</td>\n",
       "      <td>...</td>\n",
       "      <td>1</td>\n",
       "      <td>1</td>\n",
       "      <td>1</td>\n",
       "      <td>2</td>\n",
       "      <td>0</td>\n",
       "      <td>0</td>\n",
       "      <td>0</td>\n",
       "      <td>1</td>\n",
       "      <td>2</td>\n",
       "      <td>0</td>\n",
       "    </tr>\n",
       "    <tr>\n",
       "      <th>2</th>\n",
       "      <td>0.000005</td>\n",
       "      <td>117</td>\n",
       "      <td>0</td>\n",
       "      <td>4</td>\n",
       "      <td>2</td>\n",
       "      <td>0</td>\n",
       "      <td>1068</td>\n",
       "      <td>0</td>\n",
       "      <td>200000.0051</td>\n",
       "      <td>254</td>\n",
       "      <td>...</td>\n",
       "      <td>1</td>\n",
       "      <td>1</td>\n",
       "      <td>1</td>\n",
       "      <td>3</td>\n",
       "      <td>0</td>\n",
       "      <td>0</td>\n",
       "      <td>0</td>\n",
       "      <td>1</td>\n",
       "      <td>3</td>\n",
       "      <td>0</td>\n",
       "    </tr>\n",
       "    <tr>\n",
       "      <th>3</th>\n",
       "      <td>0.000006</td>\n",
       "      <td>117</td>\n",
       "      <td>0</td>\n",
       "      <td>4</td>\n",
       "      <td>2</td>\n",
       "      <td>0</td>\n",
       "      <td>900</td>\n",
       "      <td>0</td>\n",
       "      <td>166666.6608</td>\n",
       "      <td>254</td>\n",
       "      <td>...</td>\n",
       "      <td>2</td>\n",
       "      <td>2</td>\n",
       "      <td>1</td>\n",
       "      <td>3</td>\n",
       "      <td>0</td>\n",
       "      <td>0</td>\n",
       "      <td>0</td>\n",
       "      <td>2</td>\n",
       "      <td>3</td>\n",
       "      <td>0</td>\n",
       "    </tr>\n",
       "    <tr>\n",
       "      <th>4</th>\n",
       "      <td>0.000010</td>\n",
       "      <td>117</td>\n",
       "      <td>0</td>\n",
       "      <td>4</td>\n",
       "      <td>2</td>\n",
       "      <td>0</td>\n",
       "      <td>2126</td>\n",
       "      <td>0</td>\n",
       "      <td>100000.0025</td>\n",
       "      <td>254</td>\n",
       "      <td>...</td>\n",
       "      <td>2</td>\n",
       "      <td>2</td>\n",
       "      <td>1</td>\n",
       "      <td>3</td>\n",
       "      <td>0</td>\n",
       "      <td>0</td>\n",
       "      <td>0</td>\n",
       "      <td>2</td>\n",
       "      <td>3</td>\n",
       "      <td>0</td>\n",
       "    </tr>\n",
       "  </tbody>\n",
       "</table>\n",
       "<p>5 rows × 42 columns</p>\n",
       "</div>"
      ],
      "text/plain": [
       "        dur  proto  service  state  spkts  dpkts  sbytes  dbytes         rate  \\\n",
       "0  0.000011    117        0      4      2      0     496       0   90909.0902   \n",
       "1  0.000008    117        0      4      2      0    1762       0  125000.0003   \n",
       "2  0.000005    117        0      4      2      0    1068       0  200000.0051   \n",
       "3  0.000006    117        0      4      2      0     900       0  166666.6608   \n",
       "4  0.000010    117        0      4      2      0    2126       0  100000.0025   \n",
       "\n",
       "   sttl  ...  ct_dst_ltm  ct_src_dport_ltm  ct_dst_sport_ltm  ct_dst_src_ltm  \\\n",
       "0   254  ...           1                 1                 1               2   \n",
       "1   254  ...           1                 1                 1               2   \n",
       "2   254  ...           1                 1                 1               3   \n",
       "3   254  ...           2                 2                 1               3   \n",
       "4   254  ...           2                 2                 1               3   \n",
       "\n",
       "   is_ftp_login  ct_ftp_cmd  ct_flw_http_mthd  ct_src_ltm  ct_srv_dst  \\\n",
       "0             0           0                 0           1           2   \n",
       "1             0           0                 0           1           2   \n",
       "2             0           0                 0           1           3   \n",
       "3             0           0                 0           2           3   \n",
       "4             0           0                 0           2           3   \n",
       "\n",
       "   is_sm_ips_ports  \n",
       "0                0  \n",
       "1                0  \n",
       "2                0  \n",
       "3                0  \n",
       "4                0  \n",
       "\n",
       "[5 rows x 42 columns]"
      ]
     },
     "execution_count": 14,
     "metadata": {},
     "output_type": "execute_result"
    }
   ],
   "source": [
    "train_x.head()"
   ]
  },
  {
   "cell_type": "code",
   "execution_count": null,
   "id": "2479ff01-48d3-463a-84a9-bd9e46f31171",
   "metadata": {
    "tags": []
   },
   "outputs": [],
   "source": [
    "test_x = train.iloc[:,1:-2]\n",
    "test_y = train.iloc[:,-1]\n",
    "test_x['proto'] = le.fit_transform(test_x['proto'])\n",
    "test_x['service'] = le.fit_transform(test_x['service'])\n",
    "test_x['state'] = le.fit_transform(test_x['state'])"
   ]
  },
  {
   "cell_type": "code",
   "execution_count": null,
   "id": "47ac694a-dee7-4173-915f-bb1eb59ebd59",
   "metadata": {
    "tags": []
   },
   "outputs": [
    {
     "data": {
      "text/html": [
       "<div>\n",
       "<style scoped>\n",
       "    .dataframe tbody tr th:only-of-type {\n",
       "        vertical-align: middle;\n",
       "    }\n",
       "\n",
       "    .dataframe tbody tr th {\n",
       "        vertical-align: top;\n",
       "    }\n",
       "\n",
       "    .dataframe thead th {\n",
       "        text-align: right;\n",
       "    }\n",
       "</style>\n",
       "<table border=\"1\" class=\"dataframe\">\n",
       "  <thead>\n",
       "    <tr style=\"text-align: right;\">\n",
       "      <th></th>\n",
       "      <th>dur</th>\n",
       "      <th>proto</th>\n",
       "      <th>service</th>\n",
       "      <th>state</th>\n",
       "      <th>spkts</th>\n",
       "      <th>dpkts</th>\n",
       "      <th>sbytes</th>\n",
       "      <th>dbytes</th>\n",
       "      <th>rate</th>\n",
       "      <th>sttl</th>\n",
       "      <th>...</th>\n",
       "      <th>ct_dst_ltm</th>\n",
       "      <th>ct_src_dport_ltm</th>\n",
       "      <th>ct_dst_sport_ltm</th>\n",
       "      <th>ct_dst_src_ltm</th>\n",
       "      <th>is_ftp_login</th>\n",
       "      <th>ct_ftp_cmd</th>\n",
       "      <th>ct_flw_http_mthd</th>\n",
       "      <th>ct_src_ltm</th>\n",
       "      <th>ct_srv_dst</th>\n",
       "      <th>is_sm_ips_ports</th>\n",
       "    </tr>\n",
       "  </thead>\n",
       "  <tbody>\n",
       "    <tr>\n",
       "      <th>0</th>\n",
       "      <td>0.000011</td>\n",
       "      <td>117</td>\n",
       "      <td>0</td>\n",
       "      <td>4</td>\n",
       "      <td>2</td>\n",
       "      <td>0</td>\n",
       "      <td>496</td>\n",
       "      <td>0</td>\n",
       "      <td>90909.0902</td>\n",
       "      <td>254</td>\n",
       "      <td>...</td>\n",
       "      <td>1</td>\n",
       "      <td>1</td>\n",
       "      <td>1</td>\n",
       "      <td>2</td>\n",
       "      <td>0</td>\n",
       "      <td>0</td>\n",
       "      <td>0</td>\n",
       "      <td>1</td>\n",
       "      <td>2</td>\n",
       "      <td>0</td>\n",
       "    </tr>\n",
       "    <tr>\n",
       "      <th>1</th>\n",
       "      <td>0.000008</td>\n",
       "      <td>117</td>\n",
       "      <td>0</td>\n",
       "      <td>4</td>\n",
       "      <td>2</td>\n",
       "      <td>0</td>\n",
       "      <td>1762</td>\n",
       "      <td>0</td>\n",
       "      <td>125000.0003</td>\n",
       "      <td>254</td>\n",
       "      <td>...</td>\n",
       "      <td>1</td>\n",
       "      <td>1</td>\n",
       "      <td>1</td>\n",
       "      <td>2</td>\n",
       "      <td>0</td>\n",
       "      <td>0</td>\n",
       "      <td>0</td>\n",
       "      <td>1</td>\n",
       "      <td>2</td>\n",
       "      <td>0</td>\n",
       "    </tr>\n",
       "    <tr>\n",
       "      <th>2</th>\n",
       "      <td>0.000005</td>\n",
       "      <td>117</td>\n",
       "      <td>0</td>\n",
       "      <td>4</td>\n",
       "      <td>2</td>\n",
       "      <td>0</td>\n",
       "      <td>1068</td>\n",
       "      <td>0</td>\n",
       "      <td>200000.0051</td>\n",
       "      <td>254</td>\n",
       "      <td>...</td>\n",
       "      <td>1</td>\n",
       "      <td>1</td>\n",
       "      <td>1</td>\n",
       "      <td>3</td>\n",
       "      <td>0</td>\n",
       "      <td>0</td>\n",
       "      <td>0</td>\n",
       "      <td>1</td>\n",
       "      <td>3</td>\n",
       "      <td>0</td>\n",
       "    </tr>\n",
       "    <tr>\n",
       "      <th>3</th>\n",
       "      <td>0.000006</td>\n",
       "      <td>117</td>\n",
       "      <td>0</td>\n",
       "      <td>4</td>\n",
       "      <td>2</td>\n",
       "      <td>0</td>\n",
       "      <td>900</td>\n",
       "      <td>0</td>\n",
       "      <td>166666.6608</td>\n",
       "      <td>254</td>\n",
       "      <td>...</td>\n",
       "      <td>2</td>\n",
       "      <td>2</td>\n",
       "      <td>1</td>\n",
       "      <td>3</td>\n",
       "      <td>0</td>\n",
       "      <td>0</td>\n",
       "      <td>0</td>\n",
       "      <td>2</td>\n",
       "      <td>3</td>\n",
       "      <td>0</td>\n",
       "    </tr>\n",
       "    <tr>\n",
       "      <th>4</th>\n",
       "      <td>0.000010</td>\n",
       "      <td>117</td>\n",
       "      <td>0</td>\n",
       "      <td>4</td>\n",
       "      <td>2</td>\n",
       "      <td>0</td>\n",
       "      <td>2126</td>\n",
       "      <td>0</td>\n",
       "      <td>100000.0025</td>\n",
       "      <td>254</td>\n",
       "      <td>...</td>\n",
       "      <td>2</td>\n",
       "      <td>2</td>\n",
       "      <td>1</td>\n",
       "      <td>3</td>\n",
       "      <td>0</td>\n",
       "      <td>0</td>\n",
       "      <td>0</td>\n",
       "      <td>2</td>\n",
       "      <td>3</td>\n",
       "      <td>0</td>\n",
       "    </tr>\n",
       "  </tbody>\n",
       "</table>\n",
       "<p>5 rows × 42 columns</p>\n",
       "</div>"
      ],
      "text/plain": [
       "        dur  proto  service  state  spkts  dpkts  sbytes  dbytes         rate  \\\n",
       "0  0.000011    117        0      4      2      0     496       0   90909.0902   \n",
       "1  0.000008    117        0      4      2      0    1762       0  125000.0003   \n",
       "2  0.000005    117        0      4      2      0    1068       0  200000.0051   \n",
       "3  0.000006    117        0      4      2      0     900       0  166666.6608   \n",
       "4  0.000010    117        0      4      2      0    2126       0  100000.0025   \n",
       "\n",
       "   sttl  ...  ct_dst_ltm  ct_src_dport_ltm  ct_dst_sport_ltm  ct_dst_src_ltm  \\\n",
       "0   254  ...           1                 1                 1               2   \n",
       "1   254  ...           1                 1                 1               2   \n",
       "2   254  ...           1                 1                 1               3   \n",
       "3   254  ...           2                 2                 1               3   \n",
       "4   254  ...           2                 2                 1               3   \n",
       "\n",
       "   is_ftp_login  ct_ftp_cmd  ct_flw_http_mthd  ct_src_ltm  ct_srv_dst  \\\n",
       "0             0           0                 0           1           2   \n",
       "1             0           0                 0           1           2   \n",
       "2             0           0                 0           1           3   \n",
       "3             0           0                 0           2           3   \n",
       "4             0           0                 0           2           3   \n",
       "\n",
       "   is_sm_ips_ports  \n",
       "0                0  \n",
       "1                0  \n",
       "2                0  \n",
       "3                0  \n",
       "4                0  \n",
       "\n",
       "[5 rows x 42 columns]"
      ]
     },
     "execution_count": 16,
     "metadata": {},
     "output_type": "execute_result"
    }
   ],
   "source": [
    "test_x.head()"
   ]
  },
  {
   "cell_type": "markdown",
   "id": "b06ec4e5-edbb-4610-b443-1266f4016264",
   "metadata": {},
   "source": [
    "# Class imbalance check"
   ]
  },
  {
   "cell_type": "code",
   "execution_count": null,
   "id": "1b755518-0afc-4883-a5e6-7602c4b8d066",
   "metadata": {},
   "outputs": [
    {
     "name": "stdout",
     "output_type": "stream",
     "text": [
      "Counter({1: 45332, 0: 37000})\n"
     ]
    }
   ],
   "source": [
    "import collections\n",
    "\n",
    "print(collections.Counter(test_y))\n",
    "\n",
    "smote = SMOTE()\n",
    "train_x_resampled, train_y_resampled = smote.fit_resample(train_x, train_y)"
   ]
  },
  {
   "cell_type": "code",
   "execution_count": null,
   "id": "60ec948a-01ca-48fe-ac67-554c29d18393",
   "metadata": {
    "tags": []
   },
   "outputs": [],
   "source": [
    "#import collections\n",
    "#print(collections.Counter(test_x))"
   ]
  },
  {
   "cell_type": "markdown",
   "id": "3c0976b2-1e3c-41f6-9fd9-237c024e47e0",
   "metadata": {},
   "source": [
    "# Deep learning model for intrusion detection"
   ]
  },
  {
   "cell_type": "code",
   "execution_count": null,
   "id": "9a0b70ef-7f6c-476b-99be-3ee9f5c6a67e",
   "metadata": {
    "tags": []
   },
   "outputs": [],
   "source": [
    "model = Sequential()\n",
    "model.add(Dense(128, activation='relu', input_shape=(train_x.shape[1],)))\n",
    "model.add(Dense(64, activation='relu'))\n",
    "model.add(Dense(32, activation='relu'))\n",
    "model.add(Dense(2, activation='softmax'))"
   ]
  },
  {
   "cell_type": "code",
   "execution_count": null,
   "id": "52f2fa30-e890-4633-b7a1-c2460ba2c3fb",
   "metadata": {
    "tags": []
   },
   "outputs": [],
   "source": [
    "model.compile(optimizer='adam', loss='sparse_categorical_crossentropy', metrics=['accuracy'])"
   ]
  },
  {
   "cell_type": "markdown",
   "id": "99e239a3-5d61-4167-8184-2bab24863b97",
   "metadata": {},
   "source": [
    "# Train"
   ]
  },
  {
   "cell_type": "code",
   "execution_count": null,
   "id": "85bf61b8-6fcc-4b84-bd2a-9c63f91158a4",
   "metadata": {
    "tags": []
   },
   "outputs": [
    {
     "name": "stdout",
     "output_type": "stream",
     "text": [
      "Epoch 1/10\n",
      "644/644 [==============================] - 3s 3ms/step - loss: 2170284.5000 - accuracy: 0.6436 - val_loss: 1524068.0000 - val_accuracy: 0.7197\n",
      "Epoch 2/10\n",
      "644/644 [==============================] - 2s 3ms/step - loss: 981437.8750 - accuracy: 0.6658 - val_loss: 869723.1250 - val_accuracy: 0.7098\n",
      "Epoch 3/10\n",
      "644/644 [==============================] - 2s 3ms/step - loss: 789148.0625 - accuracy: 0.6792 - val_loss: 326077.5938 - val_accuracy: 0.7528\n",
      "Epoch 4/10\n",
      "644/644 [==============================] - 2s 3ms/step - loss: 554146.3750 - accuracy: 0.6861 - val_loss: 362724.4688 - val_accuracy: 0.7373\n",
      "Epoch 5/10\n",
      "644/644 [==============================] - 2s 3ms/step - loss: 450828.1562 - accuracy: 0.6899 - val_loss: 383698.1562 - val_accuracy: 0.7228\n",
      "Epoch 6/10\n",
      "644/644 [==============================] - 2s 3ms/step - loss: 311923.0000 - accuracy: 0.6882 - val_loss: 298434.7812 - val_accuracy: 0.7522\n",
      "Epoch 7/10\n",
      "644/644 [==============================] - 2s 3ms/step - loss: 205896.0469 - accuracy: 0.6962 - val_loss: 339557.4375 - val_accuracy: 0.6767\n",
      "Epoch 8/10\n",
      "644/644 [==============================] - 2s 3ms/step - loss: 135685.7969 - accuracy: 0.6920 - val_loss: 89462.9922 - val_accuracy: 0.4577\n",
      "Epoch 9/10\n",
      "644/644 [==============================] - 2s 3ms/step - loss: 97371.0938 - accuracy: 0.6862 - val_loss: 51498.2344 - val_accuracy: 0.4236\n",
      "Epoch 10/10\n",
      "644/644 [==============================] - 2s 3ms/step - loss: 48895.9727 - accuracy: 0.6868 - val_loss: 28320.3438 - val_accuracy: 0.6380\n"
     ]
    }
   ],
   "source": [
    "history = model.fit(train_x, train_y, epochs=10, batch_size=128, validation_data=(test_x, test_y))"
   ]
  },
  {
   "cell_type": "markdown",
   "id": "70b71097-125d-4b4f-9182-59e065b8a433",
   "metadata": {},
   "source": [
    "# Test your model"
   ]
  },
  {
   "cell_type": "code",
   "execution_count": null,
   "id": "e0995b5e-5160-4903-95dc-5431af80dbcc",
   "metadata": {
    "tags": []
   },
   "outputs": [],
   "source": [
    "score = model.evaluate(test_x, test_y, verbose=0)"
   ]
  },
  {
   "cell_type": "code",
   "execution_count": null,
   "id": "d551d0c2-72f9-473e-a523-900aff449dbd",
   "metadata": {
    "tags": []
   },
   "outputs": [
    {
     "name": "stdout",
     "output_type": "stream",
     "text": [
      "Test loss: 28320.31640625\n",
      "Test accuracy: 0.6379779577255249\n"
     ]
    }
   ],
   "source": [
    "print('Test loss:', score[0])\n",
    "print('Test accuracy:', score[1])"
   ]
  },
  {
   "cell_type": "code",
   "execution_count": null,
   "id": "02221b8a-8e53-40c3-992e-fabfaa898cd7",
   "metadata": {
    "tags": []
   },
   "outputs": [
    {
     "name": "stdout",
     "output_type": "stream",
     "text": [
      "2573/2573 [==============================] - 2s 882us/step\n"
     ]
    }
   ],
   "source": [
    "y_pred = model.predict(test_x)"
   ]
  },
  {
   "cell_type": "code",
   "execution_count": null,
   "id": "7116072b-141f-4214-8415-bd8d5f5fdb2a",
   "metadata": {
    "tags": []
   },
   "outputs": [
    {
     "name": "stdout",
     "output_type": "stream",
     "text": [
      "(82332, 2)\n"
     ]
    }
   ],
   "source": [
    "#print(y_pred.shape)"
   ]
  },
  {
   "cell_type": "code",
   "execution_count": null,
   "id": "83159102-2127-492c-97f3-60f6f84dc979",
   "metadata": {
    "tags": []
   },
   "outputs": [],
   "source": [
    "y_pred = np.argmax(y_pred, axis = 1)"
   ]
  },
  {
   "cell_type": "code",
   "execution_count": null,
   "id": "52ef8931-a433-4a82-8a73-d36ce9637250",
   "metadata": {
    "tags": []
   },
   "outputs": [
    {
     "name": "stdout",
     "output_type": "stream",
     "text": [
      "2573/2573 [==============================] - 3s 1ms/step - loss: 28320.3164 - accuracy: 0.6380\n"
     ]
    },
    {
     "data": {
      "text/plain": [
       "[28320.31640625, 0.6379779577255249]"
      ]
     },
     "execution_count": 20,
     "metadata": {},
     "output_type": "execute_result"
    }
   ],
   "source": [
    "model.evaluate(test_x, test_y)"
   ]
  },
  {
   "cell_type": "markdown",
   "id": "07b342d7-d771-4356-aa34-538ef15bc408",
   "metadata": {},
   "source": [
    "# Performance metrics\n",
    "- Accuracy\n",
    "- F1\n",
    "- Sensitivity (TPR)\n",
    "- Specificity (TNR)\n",
    "- Confusion m"
   ]
  },
  {
   "cell_type": "code",
   "execution_count": null,
   "id": "4ae9afa9-fd29-47f5-841b-7ca66edc3c85",
   "metadata": {
    "tags": []
   },
   "outputs": [],
   "source": [
    "y_pred = y_pred.flatten()"
   ]
  },
  {
   "cell_type": "code",
   "execution_count": null,
   "id": "4e5281ca-eedc-4053-bcd7-4d0d3ed52e71",
   "metadata": {
    "tags": []
   },
   "outputs": [
    {
     "name": "stdout",
     "output_type": "stream",
     "text": [
      "<class 'pandas.core.series.Series'>\n",
      "0    0\n",
      "1    0\n",
      "2    0\n",
      "3    0\n",
      "4    0\n",
      "5    0\n",
      "6    0\n",
      "7    0\n",
      "8    0\n",
      "9    0\n",
      "Name: label, dtype: int64\n"
     ]
    }
   ],
   "source": [
    "print(type(test_y))\n",
    "#print(type(y_pred))\n",
    "print(test_y[:10])  # Print the first 10 elements of test_y for inspection\n",
    "#print(y_pred[:10])  # Print the first 10 elements of y_pred for inspection\n"
   ]
  },
  {
   "cell_type": "code",
   "execution_count": null,
   "id": "81393b78-4090-43e9-b7bd-c51bcbb5894f",
   "metadata": {
    "tags": []
   },
   "outputs": [],
   "source": [
    "y_pred = np.array(y_pred) "
   ]
  },
  {
   "cell_type": "code",
   "execution_count": null,
   "id": "1566b4ba-161f-49c3-bbfc-ead0f49b852a",
   "metadata": {
    "tags": []
   },
   "outputs": [],
   "source": [
    "y_pred_binary = (y_pred >= 0.5).astype(int)"
   ]
  },
  {
   "cell_type": "code",
   "execution_count": null,
   "id": "8711e3e5-feb8-4655-9377-c545846e5a6e",
   "metadata": {
    "tags": []
   },
   "outputs": [],
   "source": [
    "accuracy = accuracy_score(test_y, y_pred_binary)"
   ]
  },
  {
   "cell_type": "code",
   "execution_count": null,
   "id": "7d7b331f-46e3-42b7-b495-cd1fd696ea62",
   "metadata": {
    "tags": []
   },
   "outputs": [],
   "source": [
    "classification_report_output = classification_report(test_y, y_pred_binary)"
   ]
  },
  {
   "cell_type": "code",
   "execution_count": null,
   "id": "e0f16373-ae11-40dc-b48e-6d550ac1b813",
   "metadata": {
    "tags": []
   },
   "outputs": [
    {
     "name": "stdout",
     "output_type": "stream",
     "text": [
      "Accuracy: 0.6379779429626391\n",
      "Classification Report:\n",
      "               precision    recall  f1-score   support\n",
      "\n",
      "           0       0.58      0.74      0.65     37000\n",
      "           1       0.72      0.56      0.63     45332\n",
      "\n",
      "    accuracy                           0.64     82332\n",
      "   macro avg       0.65      0.65      0.64     82332\n",
      "weighted avg       0.66      0.64      0.64     82332\n",
      "\n"
     ]
    }
   ],
   "source": [
    "print(f'Accuracy: {accuracy}')\n",
    "print('Classification Report:\\n', classification_report_output)"
   ]
  },
  {
   "cell_type": "code",
   "execution_count": null,
   "id": "5c44a250-b58f-479e-bf1a-078b1f478c2e",
   "metadata": {
    "tags": []
   },
   "outputs": [],
   "source": [
    "accuracy = accuracy_score(test_y, y_pred_binary)\n",
    "f1 = f1_score(test_y, y_pred_binary)\n",
    "confusion = confusion_matrix(test_y, y_pred_binary)\n",
    "classification_report_output = classification_report(test_y, y_pred_binary)"
   ]
  },
  {
   "cell_type": "code",
   "execution_count": null,
   "id": "b42f3d64-bc85-4434-b2b7-20b5f1be2c17",
   "metadata": {
    "tags": []
   },
   "outputs": [],
   "source": [
    "TP = confusion[1, 1]\n",
    "FN = confusion[1, 0]\n",
    "sensitivity = TP / (TP + FN)"
   ]
  },
  {
   "cell_type": "code",
   "execution_count": null,
   "id": "bb44816e-5b23-48b9-adec-49091828d341",
   "metadata": {
    "tags": []
   },
   "outputs": [],
   "source": [
    "TN = confusion[0, 0]\n",
    "FP = confusion[0, 1]\n",
    "specificity = TN / (TN + FP)"
   ]
  },
  {
   "cell_type": "code",
   "execution_count": null,
   "id": "80a8cf0f-3192-4bce-84c8-4a0268002f22",
   "metadata": {
    "tags": []
   },
   "outputs": [
    {
     "name": "stdout",
     "output_type": "stream",
     "text": [
      "Accuracy: 0.6907754903746888\n",
      "F1-score: 0.7066820276497696\n",
      "Sensitivity (TPR): 0.6778649574538623\n",
      "Specificity (TNR): 0.7065246697222971\n",
      "Confusion Matrix:\n",
      " [[5241 2177]\n",
      " [2915 6134]]\n",
      "Classification Report:\n",
      "               precision    recall  f1-score   support\n",
      "\n",
      "           0       0.64      0.71      0.67      7418\n",
      "           1       0.74      0.68      0.71      9049\n",
      "\n",
      "    accuracy                           0.69     16467\n",
      "   macro avg       0.69      0.69      0.69     16467\n",
      "weighted avg       0.70      0.69      0.69     16467\n",
      "\n"
     ]
    }
   ],
   "source": [
    "print(\"Accuracy:\", accuracy)\n",
    "print(\"F1-score:\", f1)\n",
    "print(\"Sensitivity (TPR):\", sensitivity)\n",
    "print(\"Specificity (TNR):\", specificity)\n",
    "print(\"Confusion Matrix:\\n\", confusion)\n",
    "print('Classification Report:\\n', classification_report_output)"
   ]
  },
  {
   "cell_type": "code",
   "execution_count": null,
   "id": "e961c80a-1ef3-48ae-b82d-bf2e4f23aea3",
   "metadata": {
    "tags": []
   },
   "outputs": [
    {
     "data": {
      "text/plain": [
       "<Figure size 1000x400 with 0 Axes>"
      ]
     },
     "execution_count": 145,
     "metadata": {},
     "output_type": "execute_result"
    },
    {
     "data": {
      "text/plain": [
       "<Axes: >"
      ]
     },
     "execution_count": 145,
     "metadata": {},
     "output_type": "execute_result"
    },
    {
     "data": {
      "text/plain": [
       "[<matplotlib.lines.Line2D at 0x292150e6c10>]"
      ]
     },
     "execution_count": 145,
     "metadata": {},
     "output_type": "execute_result"
    },
    {
     "data": {
      "text/plain": [
       "[<matplotlib.lines.Line2D at 0x29215f65210>]"
      ]
     },
     "execution_count": 145,
     "metadata": {},
     "output_type": "execute_result"
    },
    {
     "data": {
      "text/plain": [
       "Text(0.5, 1.0, 'Training and Validation Accuracy')"
      ]
     },
     "execution_count": 145,
     "metadata": {},
     "output_type": "execute_result"
    },
    {
     "data": {
      "text/plain": [
       "Text(0.5, 0, 'Epoch')"
      ]
     },
     "execution_count": 145,
     "metadata": {},
     "output_type": "execute_result"
    },
    {
     "data": {
      "text/plain": [
       "Text(0, 0.5, 'Accuracy')"
      ]
     },
     "execution_count": 145,
     "metadata": {},
     "output_type": "execute_result"
    },
    {
     "data": {
      "text/plain": [
       "<matplotlib.legend.Legend at 0x29211e3fa50>"
      ]
     },
     "execution_count": 145,
     "metadata": {},
     "output_type": "execute_result"
    },
    {
     "data": {
      "text/plain": [
       "<Axes: >"
      ]
     },
     "execution_count": 145,
     "metadata": {},
     "output_type": "execute_result"
    },
    {
     "data": {
      "text/plain": [
       "[<matplotlib.lines.Line2D at 0x29215f644d0>]"
      ]
     },
     "execution_count": 145,
     "metadata": {},
     "output_type": "execute_result"
    },
    {
     "data": {
      "text/plain": [
       "[<matplotlib.lines.Line2D at 0x29215fa1750>]"
      ]
     },
     "execution_count": 145,
     "metadata": {},
     "output_type": "execute_result"
    },
    {
     "data": {
      "text/plain": [
       "Text(0.5, 1.0, 'Training and Validation Loss')"
      ]
     },
     "execution_count": 145,
     "metadata": {},
     "output_type": "execute_result"
    },
    {
     "data": {
      "text/plain": [
       "Text(0.5, 0, 'Epoch')"
      ]
     },
     "execution_count": 145,
     "metadata": {},
     "output_type": "execute_result"
    },
    {
     "data": {
      "text/plain": [
       "Text(0, 0.5, 'Loss')"
      ]
     },
     "execution_count": 145,
     "metadata": {},
     "output_type": "execute_result"
    },
    {
     "data": {
      "text/plain": [
       "<matplotlib.legend.Legend at 0x29215f562d0>"
      ]
     },
     "execution_count": 145,
     "metadata": {},
     "output_type": "execute_result"
    },
    {
     "data": {
      "image/png": "[encoded data removed]",
      "text/plain": [
       "<Figure size 1000x400 with 2 Axes>"
      ]
     },
     "metadata": {},
     "output_type": "display_data"
    }
   ],
   "source": [
    "plt.figure(figsize=(10, 4))\n",
    "plt.subplot(1, 2, 1)\n",
    "plt.plot(history.history['accuracy'], label='Train Accuracy')\n",
    "plt.plot(history.history['val_accuracy'], label='Validation Accuracy')\n",
    "plt.title('Training and Validation Accuracy')\n",
    "plt.xlabel('Epoch')\n",
    "plt.ylabel('Accuracy')\n",
    "plt.legend()\n",
    "\n",
    "plt.subplot(1, 2, 2)\n",
    "plt.plot(history.history['loss'], label='Train Loss')\n",
    "plt.plot(history.history['val_loss'], label='Validation Loss')\n",
    "plt.title('Training and Validation Loss')\n",
    "plt.xlabel('Epoch')\n",
    "plt.ylabel('Loss')\n",
    "plt.legend()\n",
    "\n",
    "plt.tight_layout()\n",
    "plt.show()"
   ]
  },
  {
   "cell_type": "code",
   "execution_count": null,
   "id": "12e9dacf-5472-4674-9104-22bf88b8da71",
   "metadata": {
    "tags": []
   },
   "outputs": [],
   "source": [
    "confusion = confusion_matrix(test_y, y_pred_binary)"
   ]
  },
  {
   "cell_type": "code",
   "execution_count": null,
   "id": "619f09a1-ad6a-4739-b6b9-c562e8482932",
   "metadata": {
    "tags": []
   },
   "outputs": [
    {
     "data": {
      "text/plain": [
       "<Figure size 800x600 with 0 Axes>"
      ]
     },
     "execution_count": 147,
     "metadata": {},
     "output_type": "execute_result"
    },
    {
     "data": {
      "text/plain": [
       "<Axes: >"
      ]
     },
     "execution_count": 147,
     "metadata": {},
     "output_type": "execute_result"
    },
    {
     "data": {
      "text/plain": [
       "Text(0.5, 36.72222222222221, 'Predicted Labels')"
      ]
     },
     "execution_count": 147,
     "metadata": {},
     "output_type": "execute_result"
    },
    {
     "data": {
      "text/plain": [
       "Text(104.7222222222223, 0.5, 'True Labels')"
      ]
     },
     "execution_count": 147,
     "metadata": {},
     "output_type": "execute_result"
    },
    {
     "data": {
      "text/plain": [
       "Text(0.5, 1.0, 'Confusion Matrix')"
      ]
     },
     "execution_count": 147,
     "metadata": {},
     "output_type": "execute_result"
    },
    {
     "data": {
      "image/png": "[encoded data removed]",
      "text/plain": [
       "<Figure size 800x600 with 2 Axes>"
      ]
     },
     "metadata": {},
     "output_type": "display_data"
    }
   ],
   "source": [
    "plt.figure(figsize=(8, 6))\n",
    "sns.heatmap(confusion, annot=True, fmt=\"d\", cmap=\"Blues\", square=True,\n",
    "            xticklabels=[\"Negative\", \"Positive\"],\n",
    "            yticklabels=[\"Negative\", \"Positive\"])\n",
    "plt.xlabel('Predicted Labels')\n",
    "plt.ylabel('True Labels')\n",
    "plt.title('Confusion Matrix')\n",
    "plt.show()"
   ]
  },
  {
   "cell_type": "code",
   "execution_count": null,
   "id": "1b4dd9a1-f490-4f88-a0c9-46d33fba2ed5",
   "metadata": {},
   "outputs": [],
   "source": []
  }
 ],
 "metadata": {
  "kernelspec": {
   "display_name": "Python 3 (ipykernel)",
   "language": "python",
   "name": "python3"
  },
  "language_info": {
   "codemirror_mode": {
    "name": "ipython",
    "version": 3
   },
   "file_extension": ".py",
   "mimetype": "text/x-python",
   "name": "python",
   "nbconvert_exporter": "python",
   "pygments_lexer": "ipython3",
   "version": "3.11.4"
  }
 },
 "nbformat": 4,
 "nbformat_minor": 5
}
